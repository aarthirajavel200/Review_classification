{
 "cells": [
  {
   "cell_type": "code",
   "execution_count": 26,
   "id": "20391a41-3991-40f5-af34-0ae210840c5b",
   "metadata": {},
   "outputs": [],
   "source": [
    "\n",
    "\n",
    "# importing necessary libraries\n",
    "import numpy as np \n",
    "import re"
   ]
  },
  {
   "cell_type": "code",
   "execution_count": 27,
   "id": "3022eaea-4dc0-4753-be08-32686e795da4",
   "metadata": {},
   "outputs": [],
   "source": [
    "#defining the necessary feautres\n"
   ]
  },
  {
   "cell_type": "code",
   "execution_count": 28,
   "id": "d7fa7ed2-c508-47d4-b602-7666d18ae220",
   "metadata": {},
   "outputs": [],
   "source": [
    "positive_reviews = { \"incredible\" , \"engaging\", \"loved\", \"stunning\" , \"perfectly\" , \"goodness\" , \"heart\" , \"amazing\" , \"great\", \"fantastic\"}\n",
    "negative_reviews = { \"letdown\" , \"didn't\" , \"cheesy\",\"cringe\" , \"fake\" , \"worse\",\"bad\",\"terrible\" , \"sucks\",\"boring\"}\n",
    "pronouns = {\"he\", \"she\", \"i\", \"we\",\"you\",\"they\",\"it\"}\n",
    "                     \n",
    "                    \n",
    "\n",
    "                "
   ]
  },
  {
   "cell_type": "code",
   "execution_count": 29,
   "id": "75850b01-38d7-4277-9de2-51a629e3f5cb",
   "metadata": {},
   "outputs": [],
   "source": [
    "#defining the function to extract the features"
   ]
  },
  {
   "cell_type": "code",
   "execution_count": 30,
   "id": "91d32188-b5ec-4cab-a236-146cd83f244f",
   "metadata": {},
   "outputs": [],
   "source": [
    "import re\n",
    "def extract_features(sentence):\n",
    "  pos_sum = 0 \n",
    "  neg_sum = 0 \n",
    "  pronoun_count = 0\n",
    "  \n",
    "  words = re.findall(r'\\b\\w+\\b', sentence.lower()) \n",
    "  positive_count = sum(1 for word in words if word in positive_reviews)\n",
    "  negative_count = sum(1 for word in words if word in negative_reviews)\n",
    "  pronoun_count = sum(1 for word in words if word in pronouns)\n",
    "  if \"?\" in sentence or \"!\" in sentence:\n",
    "     has_punctuation = 1 \n",
    "  else:\n",
    "    has_punctuation = 0\n",
    "  word_count = len(words)\n",
    "  return np.array([positive_count , negative_count, pronoun_count , has_punctuation,word_count]) \n",
    "\n",
    "\n",
    "         \n"
   ]
  },
  {
   "cell_type": "code",
   "execution_count": 31,
   "id": "b279b933-a8c7-4fbb-9551-658d20f31070",
   "metadata": {},
   "outputs": [],
   "source": [
    "review1 = \"Wow, that movie was incredible! The storytelling was so engaging, and the characters felt so real. I loved how the plot twists kept me on the edge of my seat. The cinematography was stunning, especially the way they used lighting to set the mood. And the soundtrack—oh my goodness, it perfectly complemented every scene! Honestly, I can’t stop thinking about it; I’d watch it again in a heartbeat.\"\n",
    "review2 = \"Ugh, that movie was such a letdown. The plot was all over the place, and the characters didn’t make any sense. Half the time, I couldn’t figure out what was happening or why I was supposed to care. The dialogue was so cheesy, it made me cringe, and don’t get me started on the special effects—they looked super fake! I kept checking my watch, hoping it would end soon. Honestly, I wouldn’t recommend it to anyone.\"\n"
   ]
  },
  {
   "cell_type": "code",
   "execution_count": 32,
   "id": "c09cfee6-ca2b-44fe-9279-5e3809e76415",
   "metadata": {},
   "outputs": [],
   "source": [
    "#utilizing gradient descent to identify weights and bias"
   ]
  },
  {
   "cell_type": "code",
   "execution_count": 33,
   "id": "af9e127b-4c56-408a-8446-af70f18e9a18",
   "metadata": {},
   "outputs": [
    {
     "name": "stdout",
     "output_type": "stream",
     "text": [
      "[0.90565049 0.27539388 0.05909744 0.5105169  0.91527995]\n",
      "0.711541551388364\n",
      "Epoch 0, Loss: 17.2698\n",
      "Epoch 100, Loss: 0.4745\n",
      "Epoch 200, Loss: 0.0002\n",
      "Epoch 300, Loss: 0.0001\n",
      "Epoch 400, Loss: 0.0001\n",
      "Epoch 500, Loss: 0.0001\n",
      "Epoch 600, Loss: 0.0001\n",
      "Epoch 700, Loss: 0.0001\n",
      "Epoch 800, Loss: 0.0001\n",
      "Epoch 900, Loss: 0.0001\n",
      "Trained Weights: [ 2.45141487 -0.67763318 -0.04356491  0.52988754 -0.0919729 ]\n",
      "Trained Bias: 0.7309121824007024\n"
     ]
    }
   ],
   "source": [
    "\n",
    "\n",
    "# Features and labels\n",
    "X = np.array([\n",
    "    [6, 0, 7, 1, 71],  # Review 1 features\n",
    "    [0, 4, 8, 1, 81]   # Review 2 features\n",
    "])\n",
    "Y = np.array([1, 0])  # Labels: 1 for positive, 0 for negative\n",
    "\n",
    "# Initialize weights and bias randomly\n",
    "weights = np.random.rand(X.shape[1])  # One weight per feature\n",
    "bias = np.random.rand()\n",
    "\n",
    "\n",
    "# Sigmoid function\n",
    "def sigmoid(z):\n",
    "    return 1 / (1 + np.exp(-z))\n",
    "\n",
    "# Gradient Descent parameters\n",
    "learning_rate = 0.01\n",
    "num_epochs = 1000\n",
    "\n",
    "# Training loop\n",
    "for epoch in range(num_epochs):\n",
    "    # Step 1: Calculate linear combination (z) and predictions\n",
    "    z = np.dot(X, weights) + bias\n",
    "    predictions = sigmoid(z)\n",
    "    epsilon = 1e-15  # Small value to avoid numerical issues\n",
    "    predictions = np.clip(predictions, epsilon, 1 - epsilon)\n",
    "\n",
    "# Recalculate loss\n",
    "    loss = -np.mean(Y * np.log(predictions) + (1 - Y) * np.log(1 - predictions))\n",
    "\n",
    "\n",
    "    # Step 3: Calculate gradients for weights and bias\n",
    "    dw = np.dot(X.T, (predictions - Y)) / len(Y)  # Gradient for weights\n",
    "    db = np.sum(predictions - Y) / len(Y)         # Gradient for bias\n",
    "\n",
    "    # Step 4: Update weights and bias\n",
    "    weights -= learning_rate * dw\n",
    "    bias -= learning_rate * db\n",
    "\n",
    "    # Print loss every 100 epochs\n",
    "    if epoch % 100 == 0:\n",
    "        print(f\"Epoch {epoch}, Loss: {loss:.4f}\")\n",
    "\n",
    "# Final trained weights and bias\n",
    "print(\"Trained Weights:\", weights)\n",
    "print(\"Trained Bias:\", bias)\n",
    "\n"
   ]
  },
  {
   "cell_type": "code",
   "execution_count": 34,
   "id": "79e81c73-9d21-40ea-832e-beb7b2f8d82a",
   "metadata": {},
   "outputs": [],
   "source": [
    "#defining the threshold value to classify"
   ]
  },
  {
   "cell_type": "code",
   "execution_count": 35,
   "id": "82804153-f3a6-42cb-bd7a-dfa9e15a4ccc",
   "metadata": {},
   "outputs": [],
   "source": [
    "threshold_value = 0.5 \n",
    "def threshold(value):\n",
    "           if value > threshold_value:\n",
    "                  print(\"Positive\")\n",
    "           else:\n",
    "                 print(\"Negative\")"
   ]
  },
  {
   "cell_type": "code",
   "execution_count": 36,
   "id": "479c9e26-04bf-4abd-8167-6ba96e3b36c2",
   "metadata": {},
   "outputs": [
    {
     "name": "stdout",
     "output_type": "stream",
     "text": [
      "[ 6  0  7  1 71]\n",
      "9.134258522439325\n",
      "Positive\n"
     ]
    }
   ],
   "source": [
    "x = extract_features(review1)\n",
    "print(x)\n",
    "z = np.dot(weights, x) + bias\n",
    "print(z)\n",
    "value = sigmoid(z)\n",
    "threshold(value)"
   ]
  },
  {
   "cell_type": "code",
   "execution_count": 44,
   "id": "00a7b110-cdd2-48a6-a2ff-f248a875ba6b",
   "metadata": {},
   "outputs": [
    {
     "name": "stdout",
     "output_type": "stream",
     "text": [
      "[ 0  4  8  1 81]\n",
      "-9.24805735281168\n",
      "Negative\n"
     ]
    }
   ],
   "source": [
    "x1 = extract_features(review2)\n",
    "print(x1)\n",
    "z = np.dot(weights, x1) + bias\n",
    "print(z)\n",
    "value = sigmoid(z)\n",
    "threshold(value)"
   ]
  },
  {
   "cell_type": "code",
   "execution_count": 38,
   "id": "e2ac48c5-d947-488f-8b2a-0e215b77867a",
   "metadata": {},
   "outputs": [],
   "source": [
    "#p = (0.69098014, 0.1126213 , 0.44850026 ,0.42306404, 0.06809109)*( 6.0 , 0.0 , 7.0 , 1.0,71.0)+0.5978427179592303"
   ]
  },
  {
   "cell_type": "code",
   "execution_count": 55,
   "id": "28814285-e89e-40d6-a642-29303351603d",
   "metadata": {},
   "outputs": [
    {
     "name": "stdout",
     "output_type": "stream",
     "text": [
      "0.9678089578357247\n",
      "0.03219104216427526\n",
      "3.124036696522586e-07\n",
      "0.9999996875963304\n"
     ]
    }
   ],
   "source": [
    "import numpy as np\n",
    "\n",
    "# Sigmoid function\n",
    "def sigmoid(z):\n",
    "    return 1 / (1 + np.exp(-z))\n",
    "\n",
    "# Input features for positive and negative feedback\n",
    "positive_feedback = np.array( [ 6,  0,  7 , 1 ,71]) # Positive feedback\n",
    "negative_feedback = np.array([0, 4, 8, 1, 81])  # Negative feedback\n",
    "\n",
    "# Weights provided\n",
    "weights = np.array([2.45141487, -0.67763318, -0.04356491, 0.52988754, -0.0919729])\n",
    "\n",
    "# Adjusted bias value to align with positive/negative feedback\n",
    "bias = -5.0  # Adjusting bias for correct output (lower bias for high P(1|x) in negative feedback)\n",
    "\n",
    "# Function to compute z and probabilities\n",
    "z = np.dot(weights,positive_feedback) + bias\n",
    "z1 = np.dot(weights,negative_feedback) + bias\n",
    "\n",
    "\n",
    "p_1_given_x = sigmoid(z)\n",
    "p_0_given_x = 1 - p_1_given_x\n",
    "p_1_given_x1 = sigmoid(z1)\n",
    "p_0_given_x1 = 1 - p_1_given_x1\n",
    "print(p_1_given_x )\n",
    "print(p_0_given_x)\n",
    "print(p_1_given_x1 )\n",
    "print(p_0_given_x1)\n",
    "    \n",
    "    \n",
    "\n"
   ]
  },
  {
   "cell_type": "code",
   "execution_count": null,
   "id": "055b0360-c671-4c15-954c-374db4315e7b",
   "metadata": {},
   "outputs": [],
   "source": [
    "trying for some different bias values"
   ]
  },
  {
   "cell_type": "code",
   "execution_count": 56,
   "id": "66a5d129-22a8-4b65-84f0-f7669c72a8bd",
   "metadata": {},
   "outputs": [
    {
     "name": "stdout",
     "output_type": "stream",
     "text": [
      "0.9998921065693942\n",
      "0.00010789343060579881\n",
      "9.628928891905453e-05\n",
      "0.999903710711081\n"
     ]
    }
   ],
   "source": [
    "import numpy as np\n",
    "\n",
    "# Sigmoid function\n",
    "def sigmoid(z):\n",
    "    return 1 / (1 + np.exp(-z))\n",
    "\n",
    "# Input features for positive and negative feedback\n",
    "positive_feedback = np.array( [ 6,  0,  7 , 1 ,71]) # Positive feedback\n",
    "negative_feedback = np.array([0, 4, 8, 1, 81])  # Negative feedback\n",
    "\n",
    "# Weights provided\n",
    "weights = np.array([2.45141487, -0.67763318, -0.04356491, 0.52988754, -0.0919729])\n",
    "\n",
    "# Adjusted bias value to align with positive/negative feedback\n",
    "bias =  0.7309121824007024 \n",
    "\n",
    "# Function to compute z and probabilities\n",
    "z = np.dot(weights,positive_feedback) + bias\n",
    "z1 = np.dot(weights,negative_feedback) + bias\n",
    "\n",
    "\n",
    "p_1_given_x = sigmoid(z)\n",
    "p_0_given_x = 1 - p_1_given_x\n",
    "p_1_given_x1 = sigmoid(z1)\n",
    "p_0_given_x1 = 1 - p_1_given_x1\n",
    "print(p_1_given_x )\n",
    "print(p_0_given_x)\n",
    "print(p_1_given_x1 )\n",
    "print(p_0_given_x1)\n",
    "    \n",
    "    "
   ]
  },
  {
   "cell_type": "code",
   "execution_count": null,
   "id": "65846718-0cd0-4c79-8142-c886104d1ccf",
   "metadata": {},
   "outputs": [],
   "source": [
    "prediction of probability is more when bias = 0.7309121824007024 "
   ]
  }
 ],
 "metadata": {
  "kernelspec": {
   "display_name": "Python 3 (ipykernel)",
   "language": "python",
   "name": "python3"
  },
  "language_info": {
   "codemirror_mode": {
    "name": "ipython",
    "version": 3
   },
   "file_extension": ".py",
   "mimetype": "text/x-python",
   "name": "python",
   "nbconvert_exporter": "python",
   "pygments_lexer": "ipython3",
   "version": "3.11.7"
  }
 },
 "nbformat": 4,
 "nbformat_minor": 5
}
